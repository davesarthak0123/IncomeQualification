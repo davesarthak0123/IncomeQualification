{
 "cells": [
  {
   "cell_type": "code",
   "execution_count": 6,
   "metadata": {},
   "outputs": [],
   "source": [
    "#Importing Required Libraries\n",
    "import pandas as pd\n",
    "import numpy as np\n",
    "import matplotlib.pyplot as plt\n",
    "import seaborn as sns\n",
    "%matplotlib inline"
   ]
  },
  {
   "cell_type": "code",
   "execution_count": 7,
   "metadata": {},
   "outputs": [],
   "source": [
    "#Importing the Datasets\n",
    "df_train=pd.read_csv(\"IQ_Train.csv\")\n",
    "df_test=pd.read_csv(\"IQ_Test.csv\")"
   ]
  },
  {
   "cell_type": "code",
   "execution_count": 8,
   "metadata": {},
   "outputs": [
    {
     "data": {
      "text/plain": [
       "{'Id': dtype('O'),\n",
       " 'v2a1': dtype('float64'),\n",
       " 'hacdor': dtype('int64'),\n",
       " 'rooms': dtype('int64'),\n",
       " 'hacapo': dtype('int64'),\n",
       " 'v14a': dtype('int64'),\n",
       " 'refrig': dtype('int64'),\n",
       " 'v18q': dtype('int64'),\n",
       " 'v18q1': dtype('float64'),\n",
       " 'r4h1': dtype('int64'),\n",
       " 'r4h2': dtype('int64'),\n",
       " 'r4h3': dtype('int64'),\n",
       " 'r4m1': dtype('int64'),\n",
       " 'r4m2': dtype('int64'),\n",
       " 'r4m3': dtype('int64'),\n",
       " 'r4t1': dtype('int64'),\n",
       " 'r4t2': dtype('int64'),\n",
       " 'r4t3': dtype('int64'),\n",
       " 'tamhog': dtype('int64'),\n",
       " 'tamviv': dtype('int64'),\n",
       " 'escolari': dtype('int64'),\n",
       " 'rez_esc': dtype('float64'),\n",
       " 'hhsize': dtype('int64'),\n",
       " 'paredblolad': dtype('int64'),\n",
       " 'paredzocalo': dtype('int64'),\n",
       " 'paredpreb': dtype('int64'),\n",
       " 'pareddes': dtype('int64'),\n",
       " 'paredmad': dtype('int64'),\n",
       " 'paredzinc': dtype('int64'),\n",
       " 'paredfibras': dtype('int64'),\n",
       " 'paredother': dtype('int64'),\n",
       " 'pisomoscer': dtype('int64'),\n",
       " 'pisocemento': dtype('int64'),\n",
       " 'pisoother': dtype('int64'),\n",
       " 'pisonatur': dtype('int64'),\n",
       " 'pisonotiene': dtype('int64'),\n",
       " 'pisomadera': dtype('int64'),\n",
       " 'techozinc': dtype('int64'),\n",
       " 'techoentrepiso': dtype('int64'),\n",
       " 'techocane': dtype('int64'),\n",
       " 'techootro': dtype('int64'),\n",
       " 'cielorazo': dtype('int64'),\n",
       " 'abastaguadentro': dtype('int64'),\n",
       " 'abastaguafuera': dtype('int64'),\n",
       " 'abastaguano': dtype('int64'),\n",
       " 'public': dtype('int64'),\n",
       " 'planpri': dtype('int64'),\n",
       " 'noelec': dtype('int64'),\n",
       " 'coopele': dtype('int64'),\n",
       " 'sanitario1': dtype('int64'),\n",
       " 'sanitario2': dtype('int64'),\n",
       " 'sanitario3': dtype('int64'),\n",
       " 'sanitario5': dtype('int64'),\n",
       " 'sanitario6': dtype('int64'),\n",
       " 'energcocinar1': dtype('int64'),\n",
       " 'energcocinar2': dtype('int64'),\n",
       " 'energcocinar3': dtype('int64'),\n",
       " 'energcocinar4': dtype('int64'),\n",
       " 'elimbasu1': dtype('int64'),\n",
       " 'elimbasu2': dtype('int64'),\n",
       " 'elimbasu3': dtype('int64'),\n",
       " 'elimbasu4': dtype('int64'),\n",
       " 'elimbasu5': dtype('int64'),\n",
       " 'elimbasu6': dtype('int64'),\n",
       " 'epared1': dtype('int64'),\n",
       " 'epared2': dtype('int64'),\n",
       " 'epared3': dtype('int64'),\n",
       " 'etecho1': dtype('int64'),\n",
       " 'etecho2': dtype('int64'),\n",
       " 'etecho3': dtype('int64'),\n",
       " 'eviv1': dtype('int64'),\n",
       " 'eviv2': dtype('int64'),\n",
       " 'eviv3': dtype('int64'),\n",
       " 'dis': dtype('int64'),\n",
       " 'male': dtype('int64'),\n",
       " 'female': dtype('int64'),\n",
       " 'estadocivil1': dtype('int64'),\n",
       " 'estadocivil2': dtype('int64'),\n",
       " 'estadocivil3': dtype('int64'),\n",
       " 'estadocivil4': dtype('int64'),\n",
       " 'estadocivil5': dtype('int64'),\n",
       " 'estadocivil6': dtype('int64'),\n",
       " 'estadocivil7': dtype('int64'),\n",
       " 'parentesco1': dtype('int64'),\n",
       " 'parentesco2': dtype('int64'),\n",
       " 'parentesco3': dtype('int64'),\n",
       " 'parentesco4': dtype('int64'),\n",
       " 'parentesco5': dtype('int64'),\n",
       " 'parentesco6': dtype('int64'),\n",
       " 'parentesco7': dtype('int64'),\n",
       " 'parentesco8': dtype('int64'),\n",
       " 'parentesco9': dtype('int64'),\n",
       " 'parentesco10': dtype('int64'),\n",
       " 'parentesco11': dtype('int64'),\n",
       " 'parentesco12': dtype('int64'),\n",
       " 'idhogar': dtype('O'),\n",
       " 'hogar_nin': dtype('int64'),\n",
       " 'hogar_adul': dtype('int64'),\n",
       " 'hogar_mayor': dtype('int64'),\n",
       " 'hogar_total': dtype('int64'),\n",
       " 'dependency': dtype('O'),\n",
       " 'edjefe': dtype('O'),\n",
       " 'edjefa': dtype('O'),\n",
       " 'meaneduc': dtype('float64'),\n",
       " 'instlevel1': dtype('int64'),\n",
       " 'instlevel2': dtype('int64'),\n",
       " 'instlevel3': dtype('int64'),\n",
       " 'instlevel4': dtype('int64'),\n",
       " 'instlevel5': dtype('int64'),\n",
       " 'instlevel6': dtype('int64'),\n",
       " 'instlevel7': dtype('int64'),\n",
       " 'instlevel8': dtype('int64'),\n",
       " 'instlevel9': dtype('int64'),\n",
       " 'bedrooms': dtype('int64'),\n",
       " 'overcrowding': dtype('float64'),\n",
       " 'tipovivi1': dtype('int64'),\n",
       " 'tipovivi2': dtype('int64'),\n",
       " 'tipovivi3': dtype('int64'),\n",
       " 'tipovivi4': dtype('int64'),\n",
       " 'tipovivi5': dtype('int64'),\n",
       " 'computer': dtype('int64'),\n",
       " 'television': dtype('int64'),\n",
       " 'mobilephone': dtype('int64'),\n",
       " 'qmobilephone': dtype('int64'),\n",
       " 'lugar1': dtype('int64'),\n",
       " 'lugar2': dtype('int64'),\n",
       " 'lugar3': dtype('int64'),\n",
       " 'lugar4': dtype('int64'),\n",
       " 'lugar5': dtype('int64'),\n",
       " 'lugar6': dtype('int64'),\n",
       " 'area1': dtype('int64'),\n",
       " 'area2': dtype('int64'),\n",
       " 'age': dtype('int64'),\n",
       " 'SQBescolari': dtype('int64'),\n",
       " 'SQBage': dtype('int64'),\n",
       " 'SQBhogar_total': dtype('int64'),\n",
       " 'SQBedjefe': dtype('int64'),\n",
       " 'SQBhogar_nin': dtype('int64'),\n",
       " 'SQBovercrowding': dtype('float64'),\n",
       " 'SQBdependency': dtype('float64'),\n",
       " 'SQBmeaned': dtype('float64'),\n",
       " 'agesq': dtype('int64'),\n",
       " 'Target': dtype('int64')}"
      ]
     },
     "execution_count": 8,
     "metadata": {},
     "output_type": "execute_result"
    }
   ],
   "source": [
    "#Identifying the data types of training data\n",
    "dtypes=df_train.dtypes.to_dict()\n",
    "dtypes"
   ]
  },
  {
   "cell_type": "code",
   "execution_count": 9,
   "metadata": {},
   "outputs": [
    {
     "name": "stdout",
     "output_type": "stream",
     "text": [
      "<class 'pandas.core.frame.DataFrame'>\n",
      "RangeIndex: 9557 entries, 0 to 9556\n",
      "Columns: 143 entries, Id to Target\n",
      "dtypes: float64(8), int64(130), object(5)\n",
      "memory usage: 10.4+ MB\n"
     ]
    }
   ],
   "source": [
    "df_train.info() # We have data of three data types i.e. float64,int64 and object"
   ]
  },
  {
   "cell_type": "code",
   "execution_count": 10,
   "metadata": {},
   "outputs": [],
   "source": [
    "#Dropping the id columns as they arent required\n",
    "df_train=df_train.drop([\"Id\",\"idhogar\"],axis=1)\n",
    "df_test=df_test.drop([\"Id\",\"idhogar\"],axis=1)"
   ]
  },
  {
   "cell_type": "code",
   "execution_count": 11,
   "metadata": {},
   "outputs": [
    {
     "name": "stdout",
     "output_type": "stream",
     "text": [
      "<class 'pandas.core.frame.DataFrame'>\n",
      "RangeIndex: 9557 entries, 0 to 9556\n",
      "Columns: 141 entries, v2a1 to Target\n",
      "dtypes: float64(8), int64(130), object(3)\n",
      "memory usage: 10.3+ MB\n"
     ]
    }
   ],
   "source": [
    "df_train.info()"
   ]
  },
  {
   "cell_type": "code",
   "execution_count": 12,
   "metadata": {},
   "outputs": [
    {
     "name": "stdout",
     "output_type": "stream",
     "text": [
      "dependency\n",
      "edjefe\n",
      "edjefa\n"
     ]
    }
   ],
   "source": [
    "for i in df_train.columns:\n",
    "    a=df_train[i].dtype\n",
    "    if a == 'object':\n",
    "        print(i)"
   ]
  },
  {
   "cell_type": "code",
   "execution_count": 13,
   "metadata": {},
   "outputs": [],
   "source": [
    "#Creating a function for mapping the value yes with 1 and no with 0\n",
    "def map(i):\n",
    "    \n",
    "    if i=='yes':\n",
    "        return(float(1))\n",
    "    elif i=='no':\n",
    "        return(float(0))\n",
    "    else:\n",
    "        return(float(i))"
   ]
  },
  {
   "cell_type": "code",
   "execution_count": 14,
   "metadata": {},
   "outputs": [],
   "source": [
    "df_train['dependency']=df_train['dependency'].apply(map)"
   ]
  },
  {
   "cell_type": "code",
   "execution_count": 15,
   "metadata": {},
   "outputs": [],
   "source": [
    "df_train['edjefe']=df_train['edjefe'].apply(map)\n",
    "df_train['edjefa']=df_train['edjefa'].apply(map)"
   ]
  },
  {
   "cell_type": "code",
   "execution_count": 16,
   "metadata": {},
   "outputs": [
    {
     "name": "stdout",
     "output_type": "stream",
     "text": [
      "<class 'pandas.core.frame.DataFrame'>\n",
      "RangeIndex: 9557 entries, 0 to 9556\n",
      "Columns: 141 entries, v2a1 to Target\n",
      "dtypes: float64(11), int64(130)\n",
      "memory usage: 10.3 MB\n"
     ]
    }
   ],
   "source": [
    "df_train.info()"
   ]
  },
  {
   "cell_type": "code",
   "execution_count": 17,
   "metadata": {},
   "outputs": [
    {
     "data": {
      "text/plain": [
       "v2a1               2.263735e+10\n",
       "hacdor             3.664046e-02\n",
       "rooms              2.156143e+00\n",
       "hacapo             2.309080e-02\n",
       "v14a               5.204941e-03\n",
       "                       ...     \n",
       "SQBovercrowding    1.705316e+01\n",
       "SQBdependency      1.565459e+02\n",
       "SQBmeaned          8.745409e+03\n",
       "agesq              3.031767e+06\n",
       "Target             1.019221e+00\n",
       "Length: 141, dtype: float64"
      ]
     },
     "execution_count": 17,
     "metadata": {},
     "output_type": "execute_result"
    }
   ],
   "source": [
    "# Identifying the variance of each column\n",
    "df_train.var()"
   ]
  },
  {
   "cell_type": "code",
   "execution_count": 18,
   "metadata": {},
   "outputs": [
    {
     "name": "stdout",
     "output_type": "stream",
     "text": [
      "elimbasu5\n"
     ]
    }
   ],
   "source": [
    "#Identifying columns with 0 variance\n",
    "for i in df_train:\n",
    "    v=df_train[i].var()\n",
    "    if v == 0:\n",
    "        print(i)"
   ]
  },
  {
   "cell_type": "code",
   "execution_count": 19,
   "metadata": {},
   "outputs": [],
   "source": [
    "df_train=df_train.drop(\"elimbasu5\",axis=1)\n",
    "df_test=df_test.drop(\"elimbasu5\",axis=1)"
   ]
  },
  {
   "cell_type": "code",
   "execution_count": 20,
   "metadata": {},
   "outputs": [
    {
     "data": {
      "text/plain": [
       "4     2447\n",
       "3     2260\n",
       "5     1598\n",
       "2     1355\n",
       "6      824\n",
       "1      378\n",
       "7      368\n",
       "8       96\n",
       "9       90\n",
       "10      60\n",
       "11      44\n",
       "12      24\n",
       "13      13\n",
       "Name: r4t3, dtype: int64"
      ]
     },
     "execution_count": 20,
     "metadata": {},
     "output_type": "execute_result"
    }
   ],
   "source": [
    "df_train[\"r4t3\"].value_counts()"
   ]
  },
  {
   "cell_type": "code",
   "execution_count": 21,
   "metadata": {},
   "outputs": [],
   "source": [
    "df_train=df_train.drop(\"r4t3\",axis=1)\n",
    "df_test=df_test.drop(\"r4t3\",axis=1)"
   ]
  },
  {
   "cell_type": "markdown",
   "metadata": {},
   "source": [
    "## Check if there is a house without a family head."
   ]
  },
  {
   "cell_type": "code",
   "execution_count": 22,
   "metadata": {},
   "outputs": [
    {
     "data": {
      "text/plain": [
       "0    6584\n",
       "1    2973\n",
       "Name: parentesco1, dtype: int64"
      ]
     },
     "execution_count": 22,
     "metadata": {},
     "output_type": "execute_result"
    }
   ],
   "source": [
    "df_train.parentesco1.value_counts()"
   ]
  },
  {
   "cell_type": "code",
   "execution_count": 23,
   "metadata": {},
   "outputs": [
    {
     "data": {
      "text/html": [
       "<div>\n",
       "<style scoped>\n",
       "    .dataframe tbody tr th:only-of-type {\n",
       "        vertical-align: middle;\n",
       "    }\n",
       "\n",
       "    .dataframe tbody tr th {\n",
       "        vertical-align: top;\n",
       "    }\n",
       "\n",
       "    .dataframe thead th {\n",
       "        text-align: right;\n",
       "    }\n",
       "</style>\n",
       "<table border=\"1\" class=\"dataframe\">\n",
       "  <thead>\n",
       "    <tr style=\"text-align: right;\">\n",
       "      <th>edjefe</th>\n",
       "      <th>0.0</th>\n",
       "      <th>1.0</th>\n",
       "      <th>2.0</th>\n",
       "      <th>3.0</th>\n",
       "      <th>4.0</th>\n",
       "      <th>5.0</th>\n",
       "      <th>6.0</th>\n",
       "      <th>7.0</th>\n",
       "      <th>8.0</th>\n",
       "      <th>9.0</th>\n",
       "      <th>...</th>\n",
       "      <th>12.0</th>\n",
       "      <th>13.0</th>\n",
       "      <th>14.0</th>\n",
       "      <th>15.0</th>\n",
       "      <th>16.0</th>\n",
       "      <th>17.0</th>\n",
       "      <th>18.0</th>\n",
       "      <th>19.0</th>\n",
       "      <th>20.0</th>\n",
       "      <th>21.0</th>\n",
       "    </tr>\n",
       "    <tr>\n",
       "      <th>edjefa</th>\n",
       "      <th></th>\n",
       "      <th></th>\n",
       "      <th></th>\n",
       "      <th></th>\n",
       "      <th></th>\n",
       "      <th></th>\n",
       "      <th></th>\n",
       "      <th></th>\n",
       "      <th></th>\n",
       "      <th></th>\n",
       "      <th></th>\n",
       "      <th></th>\n",
       "      <th></th>\n",
       "      <th></th>\n",
       "      <th></th>\n",
       "      <th></th>\n",
       "      <th></th>\n",
       "      <th></th>\n",
       "      <th></th>\n",
       "      <th></th>\n",
       "      <th></th>\n",
       "    </tr>\n",
       "  </thead>\n",
       "  <tbody>\n",
       "    <tr>\n",
       "      <th>0.0</th>\n",
       "      <td>435</td>\n",
       "      <td>123</td>\n",
       "      <td>194</td>\n",
       "      <td>307</td>\n",
       "      <td>137</td>\n",
       "      <td>222</td>\n",
       "      <td>1845</td>\n",
       "      <td>234</td>\n",
       "      <td>257</td>\n",
       "      <td>486</td>\n",
       "      <td>...</td>\n",
       "      <td>113</td>\n",
       "      <td>103</td>\n",
       "      <td>208</td>\n",
       "      <td>285</td>\n",
       "      <td>134</td>\n",
       "      <td>202</td>\n",
       "      <td>19</td>\n",
       "      <td>14</td>\n",
       "      <td>7</td>\n",
       "      <td>43</td>\n",
       "    </tr>\n",
       "    <tr>\n",
       "      <th>1.0</th>\n",
       "      <td>69</td>\n",
       "      <td>0</td>\n",
       "      <td>0</td>\n",
       "      <td>0</td>\n",
       "      <td>0</td>\n",
       "      <td>0</td>\n",
       "      <td>0</td>\n",
       "      <td>0</td>\n",
       "      <td>0</td>\n",
       "      <td>0</td>\n",
       "      <td>...</td>\n",
       "      <td>0</td>\n",
       "      <td>0</td>\n",
       "      <td>0</td>\n",
       "      <td>0</td>\n",
       "      <td>0</td>\n",
       "      <td>0</td>\n",
       "      <td>0</td>\n",
       "      <td>0</td>\n",
       "      <td>0</td>\n",
       "      <td>0</td>\n",
       "    </tr>\n",
       "    <tr>\n",
       "      <th>2.0</th>\n",
       "      <td>84</td>\n",
       "      <td>0</td>\n",
       "      <td>0</td>\n",
       "      <td>0</td>\n",
       "      <td>0</td>\n",
       "      <td>0</td>\n",
       "      <td>0</td>\n",
       "      <td>0</td>\n",
       "      <td>0</td>\n",
       "      <td>0</td>\n",
       "      <td>...</td>\n",
       "      <td>0</td>\n",
       "      <td>0</td>\n",
       "      <td>0</td>\n",
       "      <td>0</td>\n",
       "      <td>0</td>\n",
       "      <td>0</td>\n",
       "      <td>0</td>\n",
       "      <td>0</td>\n",
       "      <td>0</td>\n",
       "      <td>0</td>\n",
       "    </tr>\n",
       "    <tr>\n",
       "      <th>3.0</th>\n",
       "      <td>152</td>\n",
       "      <td>0</td>\n",
       "      <td>0</td>\n",
       "      <td>0</td>\n",
       "      <td>0</td>\n",
       "      <td>0</td>\n",
       "      <td>0</td>\n",
       "      <td>0</td>\n",
       "      <td>0</td>\n",
       "      <td>0</td>\n",
       "      <td>...</td>\n",
       "      <td>0</td>\n",
       "      <td>0</td>\n",
       "      <td>0</td>\n",
       "      <td>0</td>\n",
       "      <td>0</td>\n",
       "      <td>0</td>\n",
       "      <td>0</td>\n",
       "      <td>0</td>\n",
       "      <td>0</td>\n",
       "      <td>0</td>\n",
       "    </tr>\n",
       "    <tr>\n",
       "      <th>4.0</th>\n",
       "      <td>136</td>\n",
       "      <td>0</td>\n",
       "      <td>0</td>\n",
       "      <td>0</td>\n",
       "      <td>0</td>\n",
       "      <td>0</td>\n",
       "      <td>0</td>\n",
       "      <td>0</td>\n",
       "      <td>0</td>\n",
       "      <td>0</td>\n",
       "      <td>...</td>\n",
       "      <td>0</td>\n",
       "      <td>0</td>\n",
       "      <td>0</td>\n",
       "      <td>0</td>\n",
       "      <td>0</td>\n",
       "      <td>0</td>\n",
       "      <td>0</td>\n",
       "      <td>0</td>\n",
       "      <td>0</td>\n",
       "      <td>0</td>\n",
       "    </tr>\n",
       "    <tr>\n",
       "      <th>5.0</th>\n",
       "      <td>176</td>\n",
       "      <td>0</td>\n",
       "      <td>0</td>\n",
       "      <td>0</td>\n",
       "      <td>0</td>\n",
       "      <td>0</td>\n",
       "      <td>0</td>\n",
       "      <td>0</td>\n",
       "      <td>0</td>\n",
       "      <td>0</td>\n",
       "      <td>...</td>\n",
       "      <td>0</td>\n",
       "      <td>0</td>\n",
       "      <td>0</td>\n",
       "      <td>0</td>\n",
       "      <td>0</td>\n",
       "      <td>0</td>\n",
       "      <td>0</td>\n",
       "      <td>0</td>\n",
       "      <td>0</td>\n",
       "      <td>0</td>\n",
       "    </tr>\n",
       "    <tr>\n",
       "      <th>6.0</th>\n",
       "      <td>947</td>\n",
       "      <td>0</td>\n",
       "      <td>0</td>\n",
       "      <td>0</td>\n",
       "      <td>0</td>\n",
       "      <td>0</td>\n",
       "      <td>0</td>\n",
       "      <td>0</td>\n",
       "      <td>0</td>\n",
       "      <td>0</td>\n",
       "      <td>...</td>\n",
       "      <td>0</td>\n",
       "      <td>0</td>\n",
       "      <td>0</td>\n",
       "      <td>0</td>\n",
       "      <td>0</td>\n",
       "      <td>0</td>\n",
       "      <td>0</td>\n",
       "      <td>0</td>\n",
       "      <td>0</td>\n",
       "      <td>0</td>\n",
       "    </tr>\n",
       "    <tr>\n",
       "      <th>7.0</th>\n",
       "      <td>179</td>\n",
       "      <td>0</td>\n",
       "      <td>0</td>\n",
       "      <td>0</td>\n",
       "      <td>0</td>\n",
       "      <td>0</td>\n",
       "      <td>0</td>\n",
       "      <td>0</td>\n",
       "      <td>0</td>\n",
       "      <td>0</td>\n",
       "      <td>...</td>\n",
       "      <td>0</td>\n",
       "      <td>0</td>\n",
       "      <td>0</td>\n",
       "      <td>0</td>\n",
       "      <td>0</td>\n",
       "      <td>0</td>\n",
       "      <td>0</td>\n",
       "      <td>0</td>\n",
       "      <td>0</td>\n",
       "      <td>0</td>\n",
       "    </tr>\n",
       "    <tr>\n",
       "      <th>8.0</th>\n",
       "      <td>217</td>\n",
       "      <td>0</td>\n",
       "      <td>0</td>\n",
       "      <td>0</td>\n",
       "      <td>0</td>\n",
       "      <td>0</td>\n",
       "      <td>0</td>\n",
       "      <td>0</td>\n",
       "      <td>0</td>\n",
       "      <td>0</td>\n",
       "      <td>...</td>\n",
       "      <td>0</td>\n",
       "      <td>0</td>\n",
       "      <td>0</td>\n",
       "      <td>0</td>\n",
       "      <td>0</td>\n",
       "      <td>0</td>\n",
       "      <td>0</td>\n",
       "      <td>0</td>\n",
       "      <td>0</td>\n",
       "      <td>0</td>\n",
       "    </tr>\n",
       "    <tr>\n",
       "      <th>9.0</th>\n",
       "      <td>237</td>\n",
       "      <td>0</td>\n",
       "      <td>0</td>\n",
       "      <td>0</td>\n",
       "      <td>0</td>\n",
       "      <td>0</td>\n",
       "      <td>0</td>\n",
       "      <td>0</td>\n",
       "      <td>0</td>\n",
       "      <td>0</td>\n",
       "      <td>...</td>\n",
       "      <td>0</td>\n",
       "      <td>0</td>\n",
       "      <td>0</td>\n",
       "      <td>0</td>\n",
       "      <td>0</td>\n",
       "      <td>0</td>\n",
       "      <td>0</td>\n",
       "      <td>0</td>\n",
       "      <td>0</td>\n",
       "      <td>0</td>\n",
       "    </tr>\n",
       "    <tr>\n",
       "      <th>10.0</th>\n",
       "      <td>96</td>\n",
       "      <td>0</td>\n",
       "      <td>0</td>\n",
       "      <td>0</td>\n",
       "      <td>0</td>\n",
       "      <td>0</td>\n",
       "      <td>0</td>\n",
       "      <td>0</td>\n",
       "      <td>0</td>\n",
       "      <td>0</td>\n",
       "      <td>...</td>\n",
       "      <td>0</td>\n",
       "      <td>0</td>\n",
       "      <td>0</td>\n",
       "      <td>0</td>\n",
       "      <td>0</td>\n",
       "      <td>0</td>\n",
       "      <td>0</td>\n",
       "      <td>0</td>\n",
       "      <td>0</td>\n",
       "      <td>0</td>\n",
       "    </tr>\n",
       "    <tr>\n",
       "      <th>11.0</th>\n",
       "      <td>399</td>\n",
       "      <td>0</td>\n",
       "      <td>0</td>\n",
       "      <td>0</td>\n",
       "      <td>0</td>\n",
       "      <td>0</td>\n",
       "      <td>0</td>\n",
       "      <td>0</td>\n",
       "      <td>0</td>\n",
       "      <td>0</td>\n",
       "      <td>...</td>\n",
       "      <td>0</td>\n",
       "      <td>0</td>\n",
       "      <td>0</td>\n",
       "      <td>0</td>\n",
       "      <td>0</td>\n",
       "      <td>0</td>\n",
       "      <td>0</td>\n",
       "      <td>0</td>\n",
       "      <td>0</td>\n",
       "      <td>0</td>\n",
       "    </tr>\n",
       "    <tr>\n",
       "      <th>12.0</th>\n",
       "      <td>72</td>\n",
       "      <td>0</td>\n",
       "      <td>0</td>\n",
       "      <td>0</td>\n",
       "      <td>0</td>\n",
       "      <td>0</td>\n",
       "      <td>0</td>\n",
       "      <td>0</td>\n",
       "      <td>0</td>\n",
       "      <td>0</td>\n",
       "      <td>...</td>\n",
       "      <td>0</td>\n",
       "      <td>0</td>\n",
       "      <td>0</td>\n",
       "      <td>0</td>\n",
       "      <td>0</td>\n",
       "      <td>0</td>\n",
       "      <td>0</td>\n",
       "      <td>0</td>\n",
       "      <td>0</td>\n",
       "      <td>0</td>\n",
       "    </tr>\n",
       "    <tr>\n",
       "      <th>13.0</th>\n",
       "      <td>52</td>\n",
       "      <td>0</td>\n",
       "      <td>0</td>\n",
       "      <td>0</td>\n",
       "      <td>0</td>\n",
       "      <td>0</td>\n",
       "      <td>0</td>\n",
       "      <td>0</td>\n",
       "      <td>0</td>\n",
       "      <td>0</td>\n",
       "      <td>...</td>\n",
       "      <td>0</td>\n",
       "      <td>0</td>\n",
       "      <td>0</td>\n",
       "      <td>0</td>\n",
       "      <td>0</td>\n",
       "      <td>0</td>\n",
       "      <td>0</td>\n",
       "      <td>0</td>\n",
       "      <td>0</td>\n",
       "      <td>0</td>\n",
       "    </tr>\n",
       "    <tr>\n",
       "      <th>14.0</th>\n",
       "      <td>120</td>\n",
       "      <td>0</td>\n",
       "      <td>0</td>\n",
       "      <td>0</td>\n",
       "      <td>0</td>\n",
       "      <td>0</td>\n",
       "      <td>0</td>\n",
       "      <td>0</td>\n",
       "      <td>0</td>\n",
       "      <td>0</td>\n",
       "      <td>...</td>\n",
       "      <td>0</td>\n",
       "      <td>0</td>\n",
       "      <td>0</td>\n",
       "      <td>0</td>\n",
       "      <td>0</td>\n",
       "      <td>0</td>\n",
       "      <td>0</td>\n",
       "      <td>0</td>\n",
       "      <td>0</td>\n",
       "      <td>0</td>\n",
       "    </tr>\n",
       "    <tr>\n",
       "      <th>15.0</th>\n",
       "      <td>188</td>\n",
       "      <td>0</td>\n",
       "      <td>0</td>\n",
       "      <td>0</td>\n",
       "      <td>0</td>\n",
       "      <td>0</td>\n",
       "      <td>0</td>\n",
       "      <td>0</td>\n",
       "      <td>0</td>\n",
       "      <td>0</td>\n",
       "      <td>...</td>\n",
       "      <td>0</td>\n",
       "      <td>0</td>\n",
       "      <td>0</td>\n",
       "      <td>0</td>\n",
       "      <td>0</td>\n",
       "      <td>0</td>\n",
       "      <td>0</td>\n",
       "      <td>0</td>\n",
       "      <td>0</td>\n",
       "      <td>0</td>\n",
       "    </tr>\n",
       "    <tr>\n",
       "      <th>16.0</th>\n",
       "      <td>113</td>\n",
       "      <td>0</td>\n",
       "      <td>0</td>\n",
       "      <td>0</td>\n",
       "      <td>0</td>\n",
       "      <td>0</td>\n",
       "      <td>0</td>\n",
       "      <td>0</td>\n",
       "      <td>0</td>\n",
       "      <td>0</td>\n",
       "      <td>...</td>\n",
       "      <td>0</td>\n",
       "      <td>0</td>\n",
       "      <td>0</td>\n",
       "      <td>0</td>\n",
       "      <td>0</td>\n",
       "      <td>0</td>\n",
       "      <td>0</td>\n",
       "      <td>0</td>\n",
       "      <td>0</td>\n",
       "      <td>0</td>\n",
       "    </tr>\n",
       "    <tr>\n",
       "      <th>17.0</th>\n",
       "      <td>76</td>\n",
       "      <td>0</td>\n",
       "      <td>0</td>\n",
       "      <td>0</td>\n",
       "      <td>0</td>\n",
       "      <td>0</td>\n",
       "      <td>0</td>\n",
       "      <td>0</td>\n",
       "      <td>0</td>\n",
       "      <td>0</td>\n",
       "      <td>...</td>\n",
       "      <td>0</td>\n",
       "      <td>0</td>\n",
       "      <td>0</td>\n",
       "      <td>0</td>\n",
       "      <td>0</td>\n",
       "      <td>0</td>\n",
       "      <td>0</td>\n",
       "      <td>0</td>\n",
       "      <td>0</td>\n",
       "      <td>0</td>\n",
       "    </tr>\n",
       "    <tr>\n",
       "      <th>18.0</th>\n",
       "      <td>3</td>\n",
       "      <td>0</td>\n",
       "      <td>0</td>\n",
       "      <td>0</td>\n",
       "      <td>0</td>\n",
       "      <td>0</td>\n",
       "      <td>0</td>\n",
       "      <td>0</td>\n",
       "      <td>0</td>\n",
       "      <td>0</td>\n",
       "      <td>...</td>\n",
       "      <td>0</td>\n",
       "      <td>0</td>\n",
       "      <td>0</td>\n",
       "      <td>0</td>\n",
       "      <td>0</td>\n",
       "      <td>0</td>\n",
       "      <td>0</td>\n",
       "      <td>0</td>\n",
       "      <td>0</td>\n",
       "      <td>0</td>\n",
       "    </tr>\n",
       "    <tr>\n",
       "      <th>19.0</th>\n",
       "      <td>4</td>\n",
       "      <td>0</td>\n",
       "      <td>0</td>\n",
       "      <td>0</td>\n",
       "      <td>0</td>\n",
       "      <td>0</td>\n",
       "      <td>0</td>\n",
       "      <td>0</td>\n",
       "      <td>0</td>\n",
       "      <td>0</td>\n",
       "      <td>...</td>\n",
       "      <td>0</td>\n",
       "      <td>0</td>\n",
       "      <td>0</td>\n",
       "      <td>0</td>\n",
       "      <td>0</td>\n",
       "      <td>0</td>\n",
       "      <td>0</td>\n",
       "      <td>0</td>\n",
       "      <td>0</td>\n",
       "      <td>0</td>\n",
       "    </tr>\n",
       "    <tr>\n",
       "      <th>20.0</th>\n",
       "      <td>2</td>\n",
       "      <td>0</td>\n",
       "      <td>0</td>\n",
       "      <td>0</td>\n",
       "      <td>0</td>\n",
       "      <td>0</td>\n",
       "      <td>0</td>\n",
       "      <td>0</td>\n",
       "      <td>0</td>\n",
       "      <td>0</td>\n",
       "      <td>...</td>\n",
       "      <td>0</td>\n",
       "      <td>0</td>\n",
       "      <td>0</td>\n",
       "      <td>0</td>\n",
       "      <td>0</td>\n",
       "      <td>0</td>\n",
       "      <td>0</td>\n",
       "      <td>0</td>\n",
       "      <td>0</td>\n",
       "      <td>0</td>\n",
       "    </tr>\n",
       "    <tr>\n",
       "      <th>21.0</th>\n",
       "      <td>5</td>\n",
       "      <td>0</td>\n",
       "      <td>0</td>\n",
       "      <td>0</td>\n",
       "      <td>0</td>\n",
       "      <td>0</td>\n",
       "      <td>0</td>\n",
       "      <td>0</td>\n",
       "      <td>0</td>\n",
       "      <td>0</td>\n",
       "      <td>...</td>\n",
       "      <td>0</td>\n",
       "      <td>0</td>\n",
       "      <td>0</td>\n",
       "      <td>0</td>\n",
       "      <td>0</td>\n",
       "      <td>0</td>\n",
       "      <td>0</td>\n",
       "      <td>0</td>\n",
       "      <td>0</td>\n",
       "      <td>0</td>\n",
       "    </tr>\n",
       "  </tbody>\n",
       "</table>\n",
       "<p>22 rows × 22 columns</p>\n",
       "</div>"
      ],
      "text/plain": [
       "edjefe  0.0   1.0   2.0   3.0   4.0   5.0   6.0   7.0   8.0   9.0   ...  12.0  \\\n",
       "edjefa                                                              ...         \n",
       "0.0      435   123   194   307   137   222  1845   234   257   486  ...   113   \n",
       "1.0       69     0     0     0     0     0     0     0     0     0  ...     0   \n",
       "2.0       84     0     0     0     0     0     0     0     0     0  ...     0   \n",
       "3.0      152     0     0     0     0     0     0     0     0     0  ...     0   \n",
       "4.0      136     0     0     0     0     0     0     0     0     0  ...     0   \n",
       "5.0      176     0     0     0     0     0     0     0     0     0  ...     0   \n",
       "6.0      947     0     0     0     0     0     0     0     0     0  ...     0   \n",
       "7.0      179     0     0     0     0     0     0     0     0     0  ...     0   \n",
       "8.0      217     0     0     0     0     0     0     0     0     0  ...     0   \n",
       "9.0      237     0     0     0     0     0     0     0     0     0  ...     0   \n",
       "10.0      96     0     0     0     0     0     0     0     0     0  ...     0   \n",
       "11.0     399     0     0     0     0     0     0     0     0     0  ...     0   \n",
       "12.0      72     0     0     0     0     0     0     0     0     0  ...     0   \n",
       "13.0      52     0     0     0     0     0     0     0     0     0  ...     0   \n",
       "14.0     120     0     0     0     0     0     0     0     0     0  ...     0   \n",
       "15.0     188     0     0     0     0     0     0     0     0     0  ...     0   \n",
       "16.0     113     0     0     0     0     0     0     0     0     0  ...     0   \n",
       "17.0      76     0     0     0     0     0     0     0     0     0  ...     0   \n",
       "18.0       3     0     0     0     0     0     0     0     0     0  ...     0   \n",
       "19.0       4     0     0     0     0     0     0     0     0     0  ...     0   \n",
       "20.0       2     0     0     0     0     0     0     0     0     0  ...     0   \n",
       "21.0       5     0     0     0     0     0     0     0     0     0  ...     0   \n",
       "\n",
       "edjefe  13.0  14.0  15.0  16.0  17.0  18.0  19.0  20.0  21.0  \n",
       "edjefa                                                        \n",
       "0.0      103   208   285   134   202    19    14     7    43  \n",
       "1.0        0     0     0     0     0     0     0     0     0  \n",
       "2.0        0     0     0     0     0     0     0     0     0  \n",
       "3.0        0     0     0     0     0     0     0     0     0  \n",
       "4.0        0     0     0     0     0     0     0     0     0  \n",
       "5.0        0     0     0     0     0     0     0     0     0  \n",
       "6.0        0     0     0     0     0     0     0     0     0  \n",
       "7.0        0     0     0     0     0     0     0     0     0  \n",
       "8.0        0     0     0     0     0     0     0     0     0  \n",
       "9.0        0     0     0     0     0     0     0     0     0  \n",
       "10.0       0     0     0     0     0     0     0     0     0  \n",
       "11.0       0     0     0     0     0     0     0     0     0  \n",
       "12.0       0     0     0     0     0     0     0     0     0  \n",
       "13.0       0     0     0     0     0     0     0     0     0  \n",
       "14.0       0     0     0     0     0     0     0     0     0  \n",
       "15.0       0     0     0     0     0     0     0     0     0  \n",
       "16.0       0     0     0     0     0     0     0     0     0  \n",
       "17.0       0     0     0     0     0     0     0     0     0  \n",
       "18.0       0     0     0     0     0     0     0     0     0  \n",
       "19.0       0     0     0     0     0     0     0     0     0  \n",
       "20.0       0     0     0     0     0     0     0     0     0  \n",
       "21.0       0     0     0     0     0     0     0     0     0  \n",
       "\n",
       "[22 rows x 22 columns]"
      ]
     },
     "execution_count": 23,
     "metadata": {},
     "output_type": "execute_result"
    }
   ],
   "source": [
    "pd.crosstab(df_train['edjefa'],df_train['edjefe'])"
   ]
  },
  {
   "cell_type": "code",
   "execution_count": 24,
   "metadata": {},
   "outputs": [],
   "source": [
    "# 435 families with no family head."
   ]
  },
  {
   "cell_type": "markdown",
   "metadata": {},
   "source": [
    "## Finding missing values"
   ]
  },
  {
   "cell_type": "code",
   "execution_count": 25,
   "metadata": {},
   "outputs": [
    {
     "name": "stdout",
     "output_type": "stream",
     "text": [
      "Column Name:  v2a1 , Null Values for this column:  6860 , Percentage of Null values:  71.7798472323951\n",
      "Column Name:  v18q1 , Null Values for this column:  7342 , Percentage of Null values:  76.82327090091033\n",
      "Column Name:  rez_esc , Null Values for this column:  7928 , Percentage of Null values:  82.95490216595167\n",
      "Column Name:  meaneduc , Null Values for this column:  5 , Percentage of Null values:  0.05231767290990897\n",
      "Column Name:  SQBmeaned , Null Values for this column:  5 , Percentage of Null values:  0.05231767290990897\n"
     ]
    }
   ],
   "source": [
    "for i in df_train:\n",
    "    v=df_train[i].isnull().sum()\n",
    "    if v > 0:\n",
    "        print(\"Column Name: \",i, \", Null Values for this column: \",v,\", Percentage of Null values: \",df_train[i].isnull().sum()/len(df_train)*100)\n",
    "    "
   ]
  },
  {
   "cell_type": "code",
   "execution_count": 26,
   "metadata": {},
   "outputs": [
    {
     "data": {
      "text/plain": [
       "count    2.697000e+03\n",
       "mean     1.652316e+05\n",
       "std      1.504571e+05\n",
       "min      0.000000e+00\n",
       "25%      8.000000e+04\n",
       "50%      1.300000e+05\n",
       "75%      2.000000e+05\n",
       "max      2.353477e+06\n",
       "Name: v2a1, dtype: float64"
      ]
     },
     "execution_count": 26,
     "metadata": {},
     "output_type": "execute_result"
    }
   ],
   "source": [
    "df_train[\"v2a1\"].describe()"
   ]
  },
  {
   "cell_type": "code",
   "execution_count": 27,
   "metadata": {},
   "outputs": [],
   "source": [
    " # 'v2a1', 'v18q1', 'rez_esc' have more than 50% null values, because for v18q1, there are families with their own house so they won't pay rent in that case it should be 0"
   ]
  },
  {
   "cell_type": "code",
   "execution_count": 28,
   "metadata": {},
   "outputs": [],
   "source": [
    "#Filling the missing values\n",
    "df_train['v2a1']=df_train['v2a1'].fillna(0)\n",
    "df_train['v18q1']=df_train['v18q1'].fillna(0)\n",
    "df_test['v2a1']=df_test['v2a1'].fillna(0)\n",
    "df_test['v18q1']=df_test['v18q1'].fillna(0)"
   ]
  },
  {
   "cell_type": "code",
   "execution_count": 29,
   "metadata": {},
   "outputs": [],
   "source": [
    "df_train=df_train.drop(['tipovivi3', 'v18q','rez_esc'],axis=1)\n",
    "df_test=df_test.drop(['tipovivi3', 'v18q','rez_esc'],axis=1)"
   ]
  },
  {
   "cell_type": "code",
   "execution_count": 30,
   "metadata": {},
   "outputs": [],
   "source": [
    "df_train['meaneduc']=df_train['meaneduc'].fillna(np.mean(df_train['meaneduc']))\n",
    "df_train['SQBmeaned']=df_train['SQBmeaned'].fillna(np.mean(df_train['SQBmeaned']))\n",
    "df_test['meaneduc']=df_test['meaneduc'].fillna(np.mean(df_test['meaneduc']))\n",
    "df_test['SQBmeaned']=df_test['SQBmeaned'].fillna(np.mean(df_test['SQBmeaned']))"
   ]
  },
  {
   "cell_type": "markdown",
   "metadata": {},
   "source": [
    "## Set the poverty level of the members and the head of the house same in a family."
   ]
  },
  {
   "cell_type": "code",
   "execution_count": 31,
   "metadata": {},
   "outputs": [],
   "source": [
    "# Now for people below poverty level can be people paying less rent and don't own a house. and it also depends on whether a house is in urban area or rural area."
   ]
  },
  {
   "cell_type": "code",
   "execution_count": 32,
   "metadata": {},
   "outputs": [],
   "source": [
    "Poverty_level=df_train[df_train['v2a1'] !=0]\n"
   ]
  },
  {
   "cell_type": "code",
   "execution_count": 33,
   "metadata": {},
   "outputs": [
    {
     "data": {
      "text/plain": [
       "(2668, 136)"
      ]
     },
     "execution_count": 33,
     "metadata": {},
     "output_type": "execute_result"
    }
   ],
   "source": [
    "Poverty_level.shape"
   ]
  },
  {
   "cell_type": "code",
   "execution_count": 34,
   "metadata": {},
   "outputs": [],
   "source": [
    "poverty_level=Poverty_level.groupby('area1')['v2a1'].apply(np.median)\n"
   ]
  },
  {
   "cell_type": "code",
   "execution_count": 35,
   "metadata": {},
   "outputs": [
    {
     "data": {
      "text/plain": [
       "area1\n",
       "0     80000.0\n",
       "1    140000.0\n",
       "Name: v2a1, dtype: float64"
      ]
     },
     "execution_count": 35,
     "metadata": {},
     "output_type": "execute_result"
    }
   ],
   "source": [
    "poverty_level\n"
   ]
  },
  {
   "cell_type": "code",
   "execution_count": 36,
   "metadata": {},
   "outputs": [],
   "source": [
    "def povert(x):\n",
    "    if x<8000:\n",
    "        return('Below poverty level')\n",
    "    \n",
    "    elif x>140000:\n",
    "        return('Above poverty level')\n",
    "    elif x<140000:\n",
    "        return('Below poverty level: Ur-ban ; Above poverty level : Rural ')"
   ]
  },
  {
   "cell_type": "code",
   "execution_count": 37,
   "metadata": {},
   "outputs": [],
   "source": [
    "c=Poverty_level['v2a1'].apply(povert)"
   ]
  },
  {
   "cell_type": "code",
   "execution_count": 38,
   "metadata": {},
   "outputs": [
    {
     "data": {
      "text/plain": [
       "(2668,)"
      ]
     },
     "execution_count": 38,
     "metadata": {},
     "output_type": "execute_result"
    }
   ],
   "source": [
    "c.shape\n"
   ]
  },
  {
   "cell_type": "code",
   "execution_count": 39,
   "metadata": {},
   "outputs": [
    {
     "data": {
      "text/html": [
       "<div>\n",
       "<style scoped>\n",
       "    .dataframe tbody tr th:only-of-type {\n",
       "        vertical-align: middle;\n",
       "    }\n",
       "\n",
       "    .dataframe tbody tr th {\n",
       "        vertical-align: top;\n",
       "    }\n",
       "\n",
       "    .dataframe thead th {\n",
       "        text-align: right;\n",
       "    }\n",
       "</style>\n",
       "<table border=\"1\" class=\"dataframe\">\n",
       "  <thead>\n",
       "    <tr style=\"text-align: right;\">\n",
       "      <th>area1</th>\n",
       "      <th>0</th>\n",
       "      <th>1</th>\n",
       "    </tr>\n",
       "    <tr>\n",
       "      <th>v2a1</th>\n",
       "      <th></th>\n",
       "      <th></th>\n",
       "    </tr>\n",
       "  </thead>\n",
       "  <tbody>\n",
       "    <tr>\n",
       "      <th>Above poverty level</th>\n",
       "      <td>139</td>\n",
       "      <td>1103</td>\n",
       "    </tr>\n",
       "    <tr>\n",
       "      <th>Below poverty level: Ur-ban ; Above poverty level : Rural</th>\n",
       "      <td>306</td>\n",
       "      <td>1081</td>\n",
       "    </tr>\n",
       "  </tbody>\n",
       "</table>\n",
       "</div>"
      ],
      "text/plain": [
       "area1                                                 0     1\n",
       "v2a1                                                         \n",
       "Above poverty level                                 139  1103\n",
       "Below poverty level: Ur-ban ; Above poverty lev...  306  1081"
      ]
     },
     "execution_count": 39,
     "metadata": {},
     "output_type": "execute_result"
    }
   ],
   "source": [
    "pd.crosstab(c,Poverty_level['area1'])\n"
   ]
  },
  {
   "cell_type": "code",
   "execution_count": 40,
   "metadata": {},
   "outputs": [],
   "source": [
    "from sklearn.ensemble import RandomForestClassifier\n",
    "from sklearn.model_selection import train_test_split"
   ]
  },
  {
   "cell_type": "code",
   "execution_count": 41,
   "metadata": {},
   "outputs": [],
   "source": [
    "x=df_train.drop('Target',axis=1)\n",
    "y=df_train.Target"
   ]
  },
  {
   "cell_type": "code",
   "execution_count": 42,
   "metadata": {},
   "outputs": [],
   "source": [
    "X_data_col=x.columns\n"
   ]
  },
  {
   "cell_type": "markdown",
   "metadata": {},
   "source": [
    "## Applying Standard Scalling to dataset"
   ]
  },
  {
   "cell_type": "code",
   "execution_count": 43,
   "metadata": {},
   "outputs": [],
   "source": [
    "from sklearn.preprocessing import StandardScaler\n",
    "SS=StandardScaler()\n",
    "X_data_1=SS.fit_transform(x)\n",
    "X_data_1=pd.DataFrame(X_data_1,columns=X_data_col)"
   ]
  },
  {
   "cell_type": "code",
   "execution_count": 44,
   "metadata": {},
   "outputs": [],
   "source": [
    "x_train,x_test,y_train,y_test=train_test_split(X_data_1,y,test_size=0.25,stratify=y,random_state=0)\n"
   ]
  },
  {
   "cell_type": "code",
   "execution_count": 45,
   "metadata": {},
   "outputs": [
    {
     "name": "stdout",
     "output_type": "stream",
     "text": [
      "Best CV Score 0.8507046183898423\n",
      "Model Parameters {'max_depth': 15, 'n_estimators': 300}\n",
      "Best Estimator RandomForestClassifier(bootstrap=True, ccp_alpha=0.0, class_weight=None,\n",
      "                       criterion='gini', max_depth=15, max_features='auto',\n",
      "                       max_leaf_nodes=None, max_samples=None,\n",
      "                       min_impurity_decrease=0.0, min_impurity_split=None,\n",
      "                       min_samples_leaf=1, min_samples_split=2,\n",
      "                       min_weight_fraction_leaf=0.0, n_estimators=300,\n",
      "                       n_jobs=None, oob_score=False, random_state=0, verbose=0,\n",
      "                       warm_start=False)\n"
     ]
    }
   ],
   "source": [
    "from sklearn.pipeline import Pipeline\n",
    "from sklearn.model_selection import GridSearchCV\n",
    "\n",
    "rfc=RandomForestClassifier(random_state=0)\n",
    "parameters={'n_estimators':[10,50,100,300],'max_depth':[3,5,10,15]}\n",
    "grid=zip([rfc],[parameters])\n",
    "\n",
    "best_=None\n",
    "\n",
    "for i, j in grid:\n",
    "    a=GridSearchCV(i,param_grid=j,cv=3,n_jobs=1)\n",
    "    a.fit(x_train,y_train)\n",
    "    if best_ is None:\n",
    "        best_=a\n",
    "    elif a.best_score_>best_.best_score_:\n",
    "        best_=a\n",
    "        \n",
    "        \n",
    "print (\"Best CV Score\",best_.best_score_)\n",
    "print (\"Model Parameters\",best_.best_params_)\n",
    "print(\"Best Estimator\",best_.best_estimator_)"
   ]
  },
  {
   "cell_type": "code",
   "execution_count": 46,
   "metadata": {},
   "outputs": [],
   "source": [
    "RFC=best_.best_estimator_\n",
    "Model=RFC.fit(x_train,y_train)\n",
    "pred=Model.predict(x_test)"
   ]
  },
  {
   "cell_type": "code",
   "execution_count": 47,
   "metadata": {},
   "outputs": [
    {
     "name": "stdout",
     "output_type": "stream",
     "text": [
      "Model Score of train data : 0.9831170643225896\n",
      "Model Score of test data : 0.8824267782426778\n"
     ]
    }
   ],
   "source": [
    "print('Model Score of train data : {}'.format(Model.score(x_train,y_train)))\n",
    "print('Model Score of test data : {}'.format(Model.score(x_test,y_test)))"
   ]
  },
  {
   "cell_type": "code",
   "execution_count": 48,
   "metadata": {},
   "outputs": [],
   "source": [
    "Important_features=pd.DataFrame(Model.feature_importances_,X_data_col,columns=['feature_importance'])\n"
   ]
  },
  {
   "cell_type": "code",
   "execution_count": 49,
   "metadata": {},
   "outputs": [],
   "source": [
    "Top50Features=Important_features.sort_values(by='feature_importance',ascending=False).head(50).index\n"
   ]
  },
  {
   "cell_type": "code",
   "execution_count": 50,
   "metadata": {},
   "outputs": [
    {
     "data": {
      "text/plain": [
       "Index(['SQBmeaned', 'meaneduc', 'SQBdependency', 'dependency', 'overcrowding',\n",
       "       'SQBovercrowding', 'qmobilephone', 'SQBhogar_nin', 'SQBedjefe',\n",
       "       'edjefe', 'hogar_nin', 'rooms', 'cielorazo', 'r4t1', 'v2a1', 'edjefa',\n",
       "       'agesq', 'r4m3', 'r4h2', 'SQBage', 'age', 'escolari', 'r4t2', 'r4h3',\n",
       "       'hogar_adul', 'SQBescolari', 'eviv3', 'bedrooms', 'r4m1', 'epared3',\n",
       "       'r4m2', 'tamviv', 'paredblolad', 'v18q1', 'SQBhogar_total', 'tamhog',\n",
       "       'hhsize', 'hogar_total', 'pisomoscer', 'etecho3', 'r4h1', 'lugar1',\n",
       "       'eviv2', 'tipovivi1', 'energcocinar2', 'energcocinar3', 'epared2',\n",
       "       'television', 'area2', 'area1'],\n",
       "      dtype='object')"
      ]
     },
     "execution_count": 50,
     "metadata": {},
     "output_type": "execute_result"
    }
   ],
   "source": [
    "Top50Features"
   ]
  },
  {
   "cell_type": "code",
   "execution_count": 51,
   "metadata": {},
   "outputs": [],
   "source": [
    "for i in Top50Features:\n",
    "    if i not in X_data_col:\n",
    "        print(i)"
   ]
  },
  {
   "cell_type": "code",
   "execution_count": 52,
   "metadata": {},
   "outputs": [],
   "source": [
    "X_data_Top50=x[Top50Features]\n"
   ]
  },
  {
   "cell_type": "code",
   "execution_count": 53,
   "metadata": {},
   "outputs": [],
   "source": [
    "x_train,x_test,y_train,y_test=train_test_split(X_data_Top50,y,test_size=0.25,stratify=y,random_state=0)\n"
   ]
  },
  {
   "cell_type": "code",
   "execution_count": 54,
   "metadata": {},
   "outputs": [],
   "source": [
    "Model_1=RFC.fit(x_train,y_train)\n",
    "pred=Model_1.predict(x_test)"
   ]
  },
  {
   "cell_type": "code",
   "execution_count": 55,
   "metadata": {},
   "outputs": [],
   "source": [
    "from sklearn.metrics import confusion_matrix,f1_score,accuracy_score\n"
   ]
  },
  {
   "cell_type": "code",
   "execution_count": 56,
   "metadata": {},
   "outputs": [
    {
     "data": {
      "text/plain": [
       "array([[ 143,   17,    0,   29],\n",
       "       [   8,  324,    4,   63],\n",
       "       [   1,   12,  214,   75],\n",
       "       [   2,   10,    3, 1485]])"
      ]
     },
     "execution_count": 56,
     "metadata": {},
     "output_type": "execute_result"
    }
   ],
   "source": [
    "confusion_matrix(y_test,pred)"
   ]
  },
  {
   "cell_type": "code",
   "execution_count": 57,
   "metadata": {},
   "outputs": [
    {
     "data": {
      "text/plain": [
       "0.9026906492316511"
      ]
     },
     "execution_count": 57,
     "metadata": {},
     "output_type": "execute_result"
    }
   ],
   "source": [
    "f1_score(y_test,pred,average='weighted')"
   ]
  },
  {
   "cell_type": "code",
   "execution_count": 58,
   "metadata": {},
   "outputs": [
    {
     "data": {
      "text/plain": [
       "0.906276150627615"
      ]
     },
     "execution_count": 58,
     "metadata": {},
     "output_type": "execute_result"
    }
   ],
   "source": [
    "accuracy_score(y_test,pred)\n"
   ]
  },
  {
   "cell_type": "code",
   "execution_count": 59,
   "metadata": {},
   "outputs": [],
   "source": [
    "df_test['dependency']=df_test['dependency'].apply(map)\n"
   ]
  },
  {
   "cell_type": "code",
   "execution_count": 60,
   "metadata": {},
   "outputs": [],
   "source": [
    "df_test['edjefe']=df_test['edjefe'].apply(map)\n",
    "df_test['edjefa']=df_test['edjefa'].apply(map)"
   ]
  },
  {
   "cell_type": "code",
   "execution_count": 61,
   "metadata": {},
   "outputs": [],
   "source": [
    "test_data=df_test[Top50Features]\n"
   ]
  },
  {
   "cell_type": "code",
   "execution_count": 62,
   "metadata": {},
   "outputs": [
    {
     "data": {
      "text/plain": [
       "0    50\n",
       "dtype: int64"
      ]
     },
     "execution_count": 62,
     "metadata": {},
     "output_type": "execute_result"
    }
   ],
   "source": [
    "test_data.isna().sum().value_counts()\n"
   ]
  },
  {
   "cell_type": "code",
   "execution_count": 63,
   "metadata": {},
   "outputs": [],
   "source": [
    "Test_data_1=SS.fit_transform(test_data)\n"
   ]
  },
  {
   "cell_type": "code",
   "execution_count": 64,
   "metadata": {},
   "outputs": [],
   "source": [
    "X_data_1=pd.DataFrame(Test_data_1)"
   ]
  },
  {
   "cell_type": "code",
   "execution_count": 65,
   "metadata": {},
   "outputs": [],
   "source": [
    "test_prediction=Model_1.predict(test_data)"
   ]
  },
  {
   "cell_type": "code",
   "execution_count": 66,
   "metadata": {},
   "outputs": [
    {
     "data": {
      "text/plain": [
       "array([4, 4, 4, ..., 4, 4, 4])"
      ]
     },
     "execution_count": 66,
     "metadata": {},
     "output_type": "execute_result"
    }
   ],
   "source": [
    "test_prediction"
   ]
  }
 ],
 "metadata": {
  "kernelspec": {
   "display_name": "Python 3",
   "language": "python",
   "name": "python3"
  },
  "language_info": {
   "codemirror_mode": {
    "name": "ipython",
    "version": 3
   },
   "file_extension": ".py",
   "mimetype": "text/x-python",
   "name": "python",
   "nbconvert_exporter": "python",
   "pygments_lexer": "ipython3",
   "version": "3.7.6"
  }
 },
 "nbformat": 4,
 "nbformat_minor": 4
}
